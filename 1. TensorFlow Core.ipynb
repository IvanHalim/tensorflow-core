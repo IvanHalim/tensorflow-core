{
 "cells": [
  {
   "cell_type": "markdown",
   "metadata": {},
   "source": [
    "# TensorFlow Core\n",
    "\n",
    "This guide gets you started programming in the low-level TensorFlow APIs (TensorFlow Core), showing you how to:\n",
    "-  Manage your own TensorFlow program (a `tf.Graph`) and TensorFlow runtime (a `tf.Session`), instead of relying on Estimators to manage them.\n",
    "-  Run TensorFlow operations, using a `tf.Session`.\n",
    "-  Use high level components (datasets, layers, and feature_columns) in this low level environment.\n",
    "-  Build your own training loop, instead of using the one provided by Estimators.\n",
    "\n",
    "We recommend using the higher level APIs to build models when possible. Knowing TensorFlow Core is valuable for the following reasons:\n",
    "-  Experimentation and debugging are both more straight forward when you can use low level TensorFlow operations directly.\n",
    "-  It gives you a mental model of how things work internally when using the higher level APIs.\n",
    "\n",
    "## Setup\n",
    "\n",
    "Before using this guide, install TensorFlow.\n",
    "\n",
    "To get the most out of this guide, you should know the following:\n",
    "-  How to program in Python.\n",
    "-  At least a little bit about arrays.\n",
    "-  Ideally, something about machine learning.\n",
    "\n",
    "Feel free to launch `python` and follow along with this walkthrough. Run the following lines to set up your Python environment:"
   ]
  },
  {
   "cell_type": "code",
   "execution_count": 1,
   "metadata": {},
   "outputs": [],
   "source": [
    "from __future__ import absolute_import\n",
    "from __future__ import division\n",
    "from __future__ import print_function\n",
    "\n",
    "import numpy as np\n",
    "import tensorflow as tf"
   ]
  },
  {
   "cell_type": "markdown",
   "metadata": {},
   "source": [
    "## Tensor Values\n",
    "\n",
    "The central unit of data in TensorFlow is the __tensor__. A tensor consists of a set of primitive values shaped into an array of any number of dimensions. A tensor's __rank__ is its number of dimensions, while its __shape__ is a tuple of integers specifying the array's length along each dimension. Here are some examples of tensor values:\n",
    "\n",
    "```\n",
    " 3. # a rank 0 tensor; a scalar with shape [],\n",
    " [1., 2., 3.] # a rank 1 tensor; a vector with shape [3]\n",
    " [[1., 2., 3.], [4., 5., 6.]] # a rank 2 tensor; a matrix with shape [2, 3]\n",
    " [[[1., 2., 3.]], [[4., 5., 6.]]] # a rank 3 tensor with shape [2, 1, 3]\n",
    "```\n",
    "\n",
    "TensorFlow uses numpy arrays to represent tensor __values__.\n",
    "\n",
    "## TensorFlow Core Walkthrough\n",
    "\n",
    "You might think of TensorFlow Core programs as consisting of two discrete sections:\n",
    "1. Build the computational graph (a `tf.Graph`).\n",
    "2. Running the computational graph (using a `tf.Session`).\n",
    "\n",
    "## Graph\n",
    "\n",
    "A __computational graph__ is a series of TensorFlow operations arranged into a graph. The graph is composed of two types of objects.\n",
    "-  `tf.Operation` (or \"ops\"): The nodes of the graph. Operations describe calculations that consume and produce tensors.\n",
    "-  `tf.Tensor`: The edges in the graph. These represent the values that will flow through the graph. Most TensorFlow functions return `tf.Tensors`.\n",
    "\n",
    "__Important: tf.Tensors__ do not have values, they are just handles to elements in the computation graph.\n",
    "\n",
    "Let's build a simple computational graph. The most basic operation is a constant. The Python function that builds the operation takes a tensor value as input. The resulting operation takes no inputs. When run, it outputs the value that was passed to the constructor. We can create two floating point constants `a` and `b` as follows:"
   ]
  },
  {
   "cell_type": "code",
   "execution_count": 4,
   "metadata": {},
   "outputs": [
    {
     "name": "stdout",
     "output_type": "stream",
     "text": [
      "Tensor(\"Const:0\", shape=(), dtype=float32)\n",
      "Tensor(\"Const_1:0\", shape=(), dtype=float32)\n",
      "Tensor(\"add:0\", shape=(), dtype=float32)\n"
     ]
    }
   ],
   "source": [
    "a = tf.constant(3.0, dtype = tf.float32)\n",
    "b = tf.constant(4.0) # also tf.float32 implicitly\n",
    "total = a + b\n",
    "print(a)\n",
    "print(b)\n",
    "print(total)"
   ]
  },
  {
   "cell_type": "markdown",
   "metadata": {},
   "source": [
    "Notice that printing the tensors does not output the values `3.0`, `4.0`, and `7.0` as you might expect. The above statements only build the computation graph. These `tf.Tensor` objects just represent the results of the operations that will be run.\n",
    "\n",
    "Each operation in a graph is given a unique name. This name is independent of the names the objects are assigned to in Python. Tensors are named after the operation that produces them followed by an output index, as in `\"add:0\"` above.\n",
    "\n",
    "## TensorBoard\n",
    "\n",
    "TensorFlow provides a utility called TensorBoard. One of TensorBoard's many capabilities is visualizing a computation graph. You can easily do this with a few simple commands.\n",
    "\n",
    "First you save the computation graph to a TensorBoard summary file as follows:"
   ]
  },
  {
   "cell_type": "code",
   "execution_count": 5,
   "metadata": {},
   "outputs": [],
   "source": [
    "writer = tf.summary.FileWriter('.')\n",
    "writer.add_graph(tf.get_default_graph())\n",
    "writer.flush()"
   ]
  },
  {
   "cell_type": "markdown",
   "metadata": {},
   "source": [
    "This will produce an `event` file in the current directory with a name in the following format:\n",
    "```\n",
    " events.out.tfevents.{timestamp}.{hostname}\n",
    "```\n",
    "Now, in a terminal, launch TensorBoard with the following shell command:\n",
    "\n",
    "```\n",
    " tensorboard --logdir\n",
    "```\n",
    "Then open TensorBoard's graphs page in your browser, and you should see a graph similar to the following:"
   ]
  },
  {
   "cell_type": "code",
   "execution_count": null,
   "metadata": {},
   "outputs": [],
   "source": []
  }
 ],
 "metadata": {
  "kernelspec": {
   "display_name": "Python 3",
   "language": "python",
   "name": "python3"
  },
  "language_info": {
   "codemirror_mode": {
    "name": "ipython",
    "version": 3
   },
   "file_extension": ".py",
   "mimetype": "text/x-python",
   "name": "python",
   "nbconvert_exporter": "python",
   "pygments_lexer": "ipython3",
   "version": "3.6.8"
  }
 },
 "nbformat": 4,
 "nbformat_minor": 2
}
